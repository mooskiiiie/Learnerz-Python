{
  "nbformat": 4,
  "nbformat_minor": 0,
  "metadata": {
    "colab": {
      "name": "Learnerz_Python_Day9.ipynb",
      "provenance": [],
      "authorship_tag": "ABX9TyO6N3GuaMyeh+d68dhZUePJ",
      "include_colab_link": true
    },
    "kernelspec": {
      "name": "python3",
      "display_name": "Python 3"
    },
    "language_info": {
      "name": "python"
    }
  },
  "cells": [
    {
      "cell_type": "markdown",
      "metadata": {
        "id": "view-in-github",
        "colab_type": "text"
      },
      "source": [
        "<a href=\"https://colab.research.google.com/github/mooskiiiie/Learnerz-Python/blob/main/Learnerz_Python_Day9.ipynb\" target=\"_parent\"><img src=\"https://colab.research.google.com/assets/colab-badge.svg\" alt=\"Open In Colab\"/></a>"
      ]
    },
    {
      "cell_type": "code",
      "metadata": {
        "id": "-w0SRc7hYTQC"
      },
      "source": [
        "# data types \n",
        "string = \"I am a string\"\n",
        "integer = 900\n",
        "decimal = 9.12\n",
        "boolean = True"
      ],
      "execution_count": 1,
      "outputs": []
    },
    {
      "cell_type": "code",
      "metadata": {
        "colab": {
          "base_uri": "https://localhost:8080/",
          "height": 35
        },
        "id": "HIJPn6H5amXI",
        "outputId": "1ef2d405-9d7d-471a-926b-2c8e92704e24"
      },
      "source": [
        "# methods\n",
        "# .lower()\n",
        "a = \"HELLO\"\n",
        "a.lower()\n",
        "# .upper()\n",
        "b = \"hello\"\n",
        "b.upper()"
      ],
      "execution_count": 4,
      "outputs": [
        {
          "output_type": "execute_result",
          "data": {
            "application/vnd.google.colaboratory.intrinsic+json": {
              "type": "string"
            },
            "text/plain": [
              "'HELLO'"
            ]
          },
          "metadata": {},
          "execution_count": 4
        }
      ]
    },
    {
      "cell_type": "code",
      "metadata": {
        "colab": {
          "base_uri": "https://localhost:8080/"
        },
        "id": "tmfqWluha4FF",
        "outputId": "385a0c35-39ad-48f8-fa30-75799163866c"
      },
      "source": [
        "# .isupper()\n",
        "a.islower()"
      ],
      "execution_count": 8,
      "outputs": [
        {
          "output_type": "execute_result",
          "data": {
            "text/plain": [
              "False"
            ]
          },
          "metadata": {},
          "execution_count": 8
        }
      ]
    },
    {
      "cell_type": "code",
      "metadata": {
        "colab": {
          "base_uri": "https://localhost:8080/"
        },
        "id": "VrrQs7yrbIez",
        "outputId": "13944895-6d65-4b7e-aeaa-f0335e4b6a56"
      },
      "source": [
        "# pre-defined functions\n",
        "print(3)"
      ],
      "execution_count": 9,
      "outputs": [
        {
          "output_type": "stream",
          "text": [
            "3\n"
          ],
          "name": "stdout"
        }
      ]
    },
    {
      "cell_type": "code",
      "metadata": {
        "colab": {
          "base_uri": "https://localhost:8080/"
        },
        "id": "1u66qdbFcN1x",
        "outputId": "ff58947b-6aad-4c09-c2cd-b4610b8fec99"
      },
      "source": [
        "len(a)"
      ],
      "execution_count": 10,
      "outputs": [
        {
          "output_type": "execute_result",
          "data": {
            "text/plain": [
              "5"
            ]
          },
          "metadata": {},
          "execution_count": 10
        }
      ]
    },
    {
      "cell_type": "code",
      "metadata": {
        "colab": {
          "base_uri": "https://localhost:8080/",
          "height": 53
        },
        "id": "7XIPiokNcPbX",
        "outputId": "c85c1046-1889-46b0-e965-72c1755e9884"
      },
      "source": [
        "input()"
      ],
      "execution_count": 11,
      "outputs": [
        {
          "output_type": "stream",
          "text": [
            "asd\n"
          ],
          "name": "stdout"
        },
        {
          "output_type": "execute_result",
          "data": {
            "application/vnd.google.colaboratory.intrinsic+json": {
              "type": "string"
            },
            "text/plain": [
              "'asd'"
            ]
          },
          "metadata": {},
          "execution_count": 11
        }
      ]
    },
    {
      "cell_type": "code",
      "metadata": {
        "colab": {
          "base_uri": "https://localhost:8080/"
        },
        "id": "qJzSnOM3cQqu",
        "outputId": "0515a7c0-532d-4692-c92d-0d1eda548b43"
      },
      "source": [
        "print(str(3))"
      ],
      "execution_count": 12,
      "outputs": [
        {
          "output_type": "stream",
          "text": [
            "3\n"
          ],
          "name": "stdout"
        }
      ]
    },
    {
      "cell_type": "code",
      "metadata": {
        "colab": {
          "base_uri": "https://localhost:8080/"
        },
        "id": "YFHUQBqocWSv",
        "outputId": "aadad511-962c-4590-9224-c0c1fae6c0bb"
      },
      "source": [
        "# user-defined functions\n",
        "\n",
        "def student_info():\n",
        "  name = input(\"Enter name: \")\n",
        "  age = int(input(\"Enter age: \"))\n",
        "  year = input(\"Enter year level: \")\n",
        "\n",
        "  return name, age, year \n",
        "\n",
        "student_info()"
      ],
      "execution_count": 15,
      "outputs": [
        {
          "output_type": "stream",
          "text": [
            "Enter name: asd\n",
            "Enter age: 3\n",
            "Enter year level: 3\n",
            "asd 3 3\n"
          ],
          "name": "stdout"
        }
      ]
    },
    {
      "cell_type": "code",
      "metadata": {
        "colab": {
          "base_uri": "https://localhost:8080/"
        },
        "id": "OlUKDhq4dLMa",
        "outputId": "87de9327-681b-4d1c-fa8b-a4bb7089f6eb"
      },
      "source": [
        "# CONDITIONS\n",
        "x = 230\n",
        "y = 300\n",
        "\n",
        "if x > y:\n",
        "  print(\"x is greater\")\n",
        "else:\n",
        "  print(\"y is greater\")"
      ],
      "execution_count": 16,
      "outputs": [
        {
          "output_type": "stream",
          "text": [
            "y is greater\n"
          ],
          "name": "stdout"
        }
      ]
    },
    {
      "cell_type": "code",
      "metadata": {
        "colab": {
          "base_uri": "https://localhost:8080/"
        },
        "id": "A_ywf-3se3IE",
        "outputId": "faf634ac-6cd2-4ab9-c8b3-2dc9cb19212e"
      },
      "source": [
        "# NESTED CONDITIONS\n",
        "# and, or , not\n",
        "x = 20\n",
        "y = 51\n",
        "\n",
        "if x == 20:\n",
        "  if x < y and y != 50:\n",
        "    print('no')\n",
        "  else:\n",
        "    print('yes')\n",
        "else:\n",
        "  print('x is not equal to 20')"
      ],
      "execution_count": 19,
      "outputs": [
        {
          "output_type": "stream",
          "text": [
            "no\n"
          ],
          "name": "stdout"
        }
      ]
    },
    {
      "cell_type": "code",
      "metadata": {
        "colab": {
          "base_uri": "https://localhost:8080/"
        },
        "id": "FAIt6Gsnfgd1",
        "outputId": "710d5ca5-4ca3-43af-fb1d-9f679fbde5bd"
      },
      "source": [
        "# LOOPS\n",
        "\n",
        "x = 1 #counter variable\n",
        "while x < 5:\n",
        "  print(x)\n",
        "  x += 1"
      ],
      "execution_count": 20,
      "outputs": [
        {
          "output_type": "stream",
          "text": [
            "1\n",
            "2\n",
            "3\n",
            "4\n"
          ],
          "name": "stdout"
        }
      ]
    },
    {
      "cell_type": "code",
      "metadata": {
        "id": "AU2bAoSVgVcX"
      },
      "source": [
        "# DIMSUM\n"
      ],
      "execution_count": null,
      "outputs": []
    },
    {
      "cell_type": "markdown",
      "metadata": {
        "id": "7maHY6O0gzTS"
      },
      "source": [
        "Problem: Create a program that adds all the numbers from the input\n",
        "\n",
        "Instructions: The program accepts any number of integers for each input, ranging from -100 to 100. The program will only stop accepting inputs if the value is outside the acceptable range.\n",
        "\n",
        "Output: At the end of the program, print the sum of all inputs. (Only print the sum if the input is invalid)"
      ]
    },
    {
      "cell_type": "code",
      "metadata": {
        "colab": {
          "base_uri": "https://localhost:8080/"
        },
        "id": "l4--oFpgg4Pg",
        "outputId": "da5f8ba5-22c9-4733-b0de-997cf786c7c6"
      },
      "source": [
        "total = 0\n",
        "while True:\n",
        "  number = int(input(\"Enter a number: \"))\n",
        "  if number > 100 or number < -100:\n",
        "    print(total)\n",
        "    break\n",
        "  elif number <= 100 or number >= -100:\n",
        "    total += number"
      ],
      "execution_count": 21,
      "outputs": [
        {
          "output_type": "stream",
          "text": [
            "Enter a number: 50\n",
            "Enter a number: 1\n",
            "Enter a number: 20\n",
            "Enter a number: 100\n",
            "Enter a number: -100\n",
            "Enter a number: 105\n",
            "71\n"
          ],
          "name": "stdout"
        }
      ]
    },
    {
      "cell_type": "code",
      "metadata": {
        "id": "CNG8Sro6ipSy"
      },
      "source": [
        "# CHOICES"
      ],
      "execution_count": null,
      "outputs": []
    },
    {
      "cell_type": "markdown",
      "metadata": {
        "id": "xwAYFiQPjRbt"
      },
      "source": [
        "Problem: Create a game that will run based on the input of the user\n",
        "\n",
        "Instructions: \n",
        "\n",
        "- Only allow players 18+ to play the game\n",
        "- Ask the user if they are ready to play. NOTE THAT THIS INPUT ONLY ACCEPTS LOWERCASE WORDS\n",
        "- give the user a starting health of 10\n",
        "- first scenario for the user is to choose between left and right\n",
        "- if user chooses left, create a scenario what happens, and ask another question\n",
        "- repeat this process until the user wins\n",
        "- However if user chooses right, he/she immediately loses"
      ]
    },
    {
      "cell_type": "code",
      "metadata": {
        "colab": {
          "base_uri": "https://localhost:8080/"
        },
        "id": "keVNYl-BjXYv",
        "outputId": "5bf53637-bfb4-4c18-a537-e9f00fe3c65f"
      },
      "source": [
        "age = int(input(\"What is your age? \"))\n",
        "health = 10\n",
        "\n",
        "if age >= 18:\n",
        "  print(\"You are old enough to play thi game!\")\n",
        "\n",
        "  wants_to_play = input(\"Do you want to play (yes/no)? \").lower()\n",
        "  if wants_to_play == \"yes\":\n",
        "    print(\"Awesome! Let's play\")\n",
        "    print(f\"You are starting with {health} health\")\n",
        "\n",
        "    left_or_right = input(\"First choice.... Left or Right (left/right)?\").lower()\n",
        "    if left_or_right == 'left':\n",
        "      ans = input(\"Nice! You follow the path and reach a lake... Do you swim across or go around (across/around)?\")\n",
        "\n",
        "      if ans == 'around':\n",
        "        print(\"You went around and reached the other side of the lake\")\n",
        "      elif ans == 'across':\n",
        "        print(\"You managed to get across, but you were bit by a snake and lost 5 health\")\n",
        "        health -= 5\n",
        "      \n",
        "      ans = input(\"You notice a house and a river. Which do you go to (river/house)?\")\n",
        "      if ans == 'house':\n",
        "        print(\"You go to the house and are greeted by the owner... He doesn't like you and you lose 5 health\")\n",
        "        health -= 5\n",
        "\n",
        "        if health <= 0:\n",
        "          print(\"You now have 0 health and you lost the game...\")\n",
        "        else:\n",
        "          print(\"you have survived. You win!\")\n",
        "      else:\n",
        "        print(\"You fell in the river and lost....\")\n",
        "    \n",
        "    elif left_or_right == 'right':\n",
        "      print(\"You fell down and lost....\")\n",
        "\n",
        "  else:\n",
        "    print(\"Alright, see you next time!\")\n",
        "else:\n",
        "  print(\"Oops! You are not old enough to play this game\")"
      ],
      "execution_count": 23,
      "outputs": [
        {
          "output_type": "stream",
          "text": [
            "What is your age? 20\n",
            "You are old enough to play thi game!\n",
            "Do you want to play (yes/no)? YES\n",
            "Awesome! Let's play\n",
            "You are starting with 10 health\n",
            "First choice.... Left or Right (left/right)?Left\n",
            "Nice! You follow the path and reach a lake... Do you swim across or go around (across/around)?around\n",
            "You went around and reached the other side of the lake\n",
            "You notice a house and a river. Which do you go to (river/house)?house\n",
            "You go to the house and are greeted by the owner... He doesn't like you and you lose 5 health\n",
            "you have survived. You win!\n"
          ],
          "name": "stdout"
        }
      ]
    },
    {
      "cell_type": "code",
      "metadata": {
        "id": "IIZ70ATtmhO4"
      },
      "source": [
        ""
      ],
      "execution_count": null,
      "outputs": []
    }
  ]
}