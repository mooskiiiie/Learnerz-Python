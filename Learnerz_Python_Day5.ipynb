{
  "nbformat": 4,
  "nbformat_minor": 0,
  "metadata": {
    "colab": {
      "name": "Learnerz_Python_Day5.ipynb",
      "provenance": [],
      "authorship_tag": "ABX9TyMEPeNREZVDl3hXMXqQqkMu",
      "include_colab_link": true
    },
    "kernelspec": {
      "name": "python3",
      "display_name": "Python 3"
    },
    "language_info": {
      "name": "python"
    }
  },
  "cells": [
    {
      "cell_type": "markdown",
      "metadata": {
        "id": "view-in-github",
        "colab_type": "text"
      },
      "source": [
        "<a href=\"https://colab.research.google.com/github/mooskiiiie/Learnerz-Python/blob/main/Learnerz_Python_Day5.ipynb\" target=\"_parent\"><img src=\"https://colab.research.google.com/assets/colab-badge.svg\" alt=\"Open In Colab\"/></a>"
      ]
    },
    {
      "cell_type": "code",
      "metadata": {
        "colab": {
          "base_uri": "https://localhost:8080/"
        },
        "id": "aEVv5zNj3yxl",
        "outputId": "0c5346ee-31ab-4fdf-da5e-507d0dcddbdd"
      },
      "source": [
        "# CONDITIONALS\n",
        "\n",
        "if 5 > 10:\n",
        "  print('5 is greatern than 10')\n",
        "elif \n",
        "else:\n",
        "  print('5 is not greater than 10')"
      ],
      "execution_count": null,
      "outputs": [
        {
          "output_type": "stream",
          "text": [
            "5 is not greater than 10\n"
          ],
          "name": "stdout"
        }
      ]
    },
    {
      "cell_type": "code",
      "metadata": {
        "id": "3cgmHw3F6Eaw",
        "colab": {
          "base_uri": "https://localhost:8080/"
        },
        "outputId": "6bf9e684-dd3d-4ca4-def0-912e67ec1fdb"
      },
      "source": [
        "# CONDITIONALS\n",
        "\n",
        "if 5 > 10:\n",
        "  print('5 is greater than 10')\n",
        "elif 5 < 10:\n",
        "  print('5 is less than 10')\n",
        "  if 5 == 5:\n",
        "    print('equal')\n",
        "elif 5 != 10:\n",
        "  print('5 is not equal to 10')\n",
        "else:\n",
        "  print('5 is not greater than 10')\n"
      ],
      "execution_count": 4,
      "outputs": [
        {
          "output_type": "stream",
          "text": [
            "5 is less than 10\n",
            "equal\n"
          ],
          "name": "stdout"
        }
      ]
    },
    {
      "cell_type": "code",
      "metadata": {
        "colab": {
          "base_uri": "https://localhost:8080/"
        },
        "id": "8MzMNqpT7Zgp",
        "outputId": "f7a564ac-22d1-4953-ae2e-b4e76d33dd60"
      },
      "source": [
        "# BOOLEAN OPERATORS\n",
        "# and, or, not \n",
        "\n",
        "num1 = 200\n",
        "num2 = 250\n",
        "num3 = 400\n",
        "\n",
        "if num1 <= num2 and num1 >= num3:\n",
        "  print('num1 is less than num2')\n",
        "elif num2 != num1 and num2 == 250:\n",
        "  print(num2)\n",
        "else:\n",
        "  print('num1 is not less than num2')"
      ],
      "execution_count": 9,
      "outputs": [
        {
          "output_type": "stream",
          "text": [
            "250\n"
          ],
          "name": "stdout"
        }
      ]
    },
    {
      "cell_type": "code",
      "metadata": {
        "colab": {
          "base_uri": "https://localhost:8080/"
        },
        "id": "Q_ofdybp8gsn",
        "outputId": "fbd64f63-21ec-4822-a5fd-813000c2d40a"
      },
      "source": [
        "# or operator\n",
        "\n",
        "if num1 > num3 or num1 < num2:\n",
        "  print(num1)\n",
        "elif num1 == 200:\n",
        "  print('yes')"
      ],
      "execution_count": 11,
      "outputs": [
        {
          "output_type": "stream",
          "text": [
            "200\n"
          ],
          "name": "stdout"
        }
      ]
    },
    {
      "cell_type": "code",
      "metadata": {
        "colab": {
          "base_uri": "https://localhost:8080/"
        },
        "id": "CjJJqfq7-Emd",
        "outputId": "950e8007-cf78-4a6b-b7a5-520e3134ee5a"
      },
      "source": [
        "# not operator\n",
        "\n",
        "num1 = 200\n",
        "num2 = 250\n",
        "num3 = 400\n",
        "\n",
        "if not num1 == 200:\n",
        "  print('yes')\n",
        "elif num3 >= 400 and not num1 == 220:\n",
        "  print(num3 + num1)\n",
        "else:\n",
        "  print('no')"
      ],
      "execution_count": 14,
      "outputs": [
        {
          "output_type": "stream",
          "text": [
            "600\n"
          ],
          "name": "stdout"
        }
      ]
    },
    {
      "cell_type": "code",
      "metadata": {
        "colab": {
          "base_uri": "https://localhost:8080/"
        },
        "id": "8zM4eBfg-f5B",
        "outputId": "568f6d09-cd54-4a1b-a063-deef4a168138"
      },
      "source": [
        "num1 = float(input(\"Enter first number: \"))\n",
        "operator = input(\"Enter operator: \")\n",
        "num2 = float(input(\"Enter second number: \"))\n",
        "\n",
        "#addition\n",
        "if operator == \"+\":\n",
        "  print(num1 + num2)\n",
        "elif operator == \"-\":\n",
        "  print(num1 - num2)\n",
        "elif operator == \"*\":\n",
        "  print(num1 * num2)\n",
        "elif operator == \"/\":\n",
        "  print(num1 / num2)\n",
        "elif operator == \"//\":\n",
        "  print(num1 // num2)\n",
        "else:\n",
        "  print(\"Invalid operator\")"
      ],
      "execution_count": 25,
      "outputs": [
        {
          "output_type": "stream",
          "text": [
            "Enter first number: 120\n",
            "Enter operator: ! asd asd asd \n",
            "Enter second number: 300\n",
            "Invalid operator\n"
          ],
          "name": "stdout"
        }
      ]
    },
    {
      "cell_type": "code",
      "metadata": {
        "colab": {
          "base_uri": "https://localhost:8080/"
        },
        "id": "P6QQLJxwAYFv",
        "outputId": "6bf9b399-e70c-47e2-cacb-1d72d6934e10"
      },
      "source": [
        "# LETTER GRADES\n",
        "# a program that determines the equivalent letter grade of a given score\n",
        "# A 92-100\n",
        "# B+ 87-91\n",
        "# B 83-86\n",
        "# C+ 79-82\n",
        "# C 75-78\n",
        "# D 70-74\n",
        "# F < 70\n",
        "\n",
        "score = int(input(\"Enter your score: \"))\n",
        "\n",
        "if score >= 92 and score <= 100:\n",
        "  print('A')\n",
        "elif score >= 87 and score <= 91:\n",
        "  print('B+')\n",
        "elif score >= 83 and score <= 86:\n",
        "  print('B')\n",
        "elif score >= 79 and score <= 82:\n",
        "  print('C+')\n",
        "elif score >= 75 and score <= 78:\n",
        "  print('C')\n",
        "elif score >= 70 and score <= 74:\n",
        "  print('D')\n",
        "elif score < 70:\n",
        "  print('F')\n",
        "else:\n",
        "  print(\"Not in the range\")\n"
      ],
      "execution_count": 42,
      "outputs": [
        {
          "output_type": "stream",
          "text": [
            "Enter your score: 77\n",
            "C\n"
          ],
          "name": "stdout"
        }
      ]
    },
    {
      "cell_type": "code",
      "metadata": {
        "colab": {
          "base_uri": "https://localhost:8080/"
        },
        "id": "7EshMoIxETO1",
        "outputId": "8d5dd79f-ba1f-4b74-8d6a-bf3577291c88"
      },
      "source": [
        "77"
      ],
      "execution_count": 41,
      "outputs": [
        {
          "output_type": "execute_result",
          "data": {
            "text/plain": [
              "77"
            ]
          },
          "metadata": {},
          "execution_count": 41
        }
      ]
    },
    {
      "cell_type": "code",
      "metadata": {
        "id": "-dFm8SbYF4g6"
      },
      "source": [
        ""
      ],
      "execution_count": null,
      "outputs": []
    }
  ]
}