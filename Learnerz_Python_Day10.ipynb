{
  "nbformat": 4,
  "nbformat_minor": 0,
  "metadata": {
    "colab": {
      "name": "Learnerz_Python_Day10.ipynb",
      "provenance": [],
      "authorship_tag": "ABX9TyOpq1Y53HQaPfwR1kX2k/+P",
      "include_colab_link": true
    },
    "kernelspec": {
      "name": "python3",
      "display_name": "Python 3"
    },
    "language_info": {
      "name": "python"
    }
  },
  "cells": [
    {
      "cell_type": "markdown",
      "metadata": {
        "id": "view-in-github",
        "colab_type": "text"
      },
      "source": [
        "<a href=\"https://colab.research.google.com/github/mooskiiiie/Learnerz-Python/blob/main/Learnerz_Python_Day10.ipynb\" target=\"_parent\"><img src=\"https://colab.research.google.com/assets/colab-badge.svg\" alt=\"Open In Colab\"/></a>"
      ]
    },
    {
      "cell_type": "code",
      "metadata": {
        "id": "lw2uR6TvhaYO"
      },
      "source": [
        "# functions\n",
        "\n",
        "x = 10\n",
        "\n",
        "def additions():\n",
        "  a = 2\n",
        "  b = 4"
      ],
      "execution_count": 7,
      "outputs": []
    },
    {
      "cell_type": "code",
      "metadata": {
        "id": "fK8qMeKomkOP"
      },
      "source": [
        "# global variables\n",
        "\n",
        "x = 20\n",
        "y = 10\n",
        "j = \"hello\"\n"
      ],
      "execution_count": 8,
      "outputs": []
    },
    {
      "cell_type": "code",
      "metadata": {
        "colab": {
          "base_uri": "https://localhost:8080/"
        },
        "id": "pkqXcIkhm1ih",
        "outputId": "fe612773-78a9-4fdd-f8f7-a3e1e8465a6f"
      },
      "source": [
        "# local variables\n",
        "\n",
        "print(x)"
      ],
      "execution_count": 9,
      "outputs": [
        {
          "output_type": "stream",
          "name": "stdout",
          "text": [
            "20\n"
          ]
        }
      ]
    },
    {
      "cell_type": "code",
      "metadata": {
        "id": "13dihIR5nWo0"
      },
      "source": [
        "while True:\n",
        "  local = \"hello\" #global variable\n",
        "  break"
      ],
      "execution_count": 11,
      "outputs": []
    },
    {
      "cell_type": "code",
      "metadata": {
        "colab": {
          "base_uri": "https://localhost:8080/"
        },
        "id": "1NXTmDKynav-",
        "outputId": "04f21075-ebe5-40a2-b9db-798c284c8ab9"
      },
      "source": [
        "print(local)"
      ],
      "execution_count": 12,
      "outputs": [
        {
          "output_type": "stream",
          "name": "stdout",
          "text": [
            "hello\n"
          ]
        }
      ]
    },
    {
      "cell_type": "code",
      "metadata": {
        "id": "uSPOX_QinoRt"
      },
      "source": [
        "if 4 < 5:\n",
        "  a = 10 # global variable"
      ],
      "execution_count": 13,
      "outputs": []
    },
    {
      "cell_type": "code",
      "metadata": {
        "colab": {
          "base_uri": "https://localhost:8080/"
        },
        "id": "hDUVNq9ln21e",
        "outputId": "b173f9d7-a7d9-46b2-85f7-c2225f17bc91"
      },
      "source": [
        "print(a)"
      ],
      "execution_count": 14,
      "outputs": [
        {
          "output_type": "stream",
          "name": "stdout",
          "text": [
            "10\n"
          ]
        }
      ]
    },
    {
      "cell_type": "code",
      "metadata": {
        "id": "kYC0FxPQn3dD"
      },
      "source": [
        "def minus():\n",
        "  b = 10 # local variable"
      ],
      "execution_count": 15,
      "outputs": []
    },
    {
      "cell_type": "code",
      "metadata": {
        "colab": {
          "base_uri": "https://localhost:8080/"
        },
        "id": "RhGyAUuKn8n2",
        "outputId": "cb47cfd8-8a99-4655-c111-d2a1e029635b"
      },
      "source": [
        "# rock, paper, scissors program\n",
        "# whoever gets 3 points wins the game\n",
        "\n",
        "# there are 2 players\n",
        "username1 = input(\"Enter player one's name: \")\n",
        "username2 = input(\"Enter player two's name: \")\n",
        "# keep track of players' score\n",
        "user1_score = 0\n",
        "user2_score = 0\n",
        "\n",
        "while True:\n",
        "  user1 = input(f\"{username1}: rock, paper, scissors? \").lower()\n",
        "  user2 = input(f\"{username2}: rock, paper, scissors? \").lower()\n",
        "\n",
        "  if user1 == 'scissors':\n",
        "    if user2 == 'rock':\n",
        "      print(f\"{username1}: {user1} | {username2}: {user2}\")\n",
        "      print(f\"{username2} wins!\")\n",
        "      user2_score += 1\n",
        "      print(f\"Score = {username1}: {user1_score} | {username2}: {user2_score}\")\n",
        "    elif user2 == 'paper':\n",
        "      print(f\"{username1}: {user1} | {username2}: {user2}\")\n",
        "      print(f\"{username1} wins!\")\n",
        "      user1_score += 1\n",
        "      print(f\"Score = {username1}: {user1_score} | {username2}: {user2_score}\")\n",
        "    elif user2 == 'scissors':\n",
        "      print(f\"{username1}: {user1} | {username2}: {user2}\")\n",
        "      print(f\"Draw!\")\n",
        "      print(f\"Score = {username1}: {user1_score} | {username2}: {user2_score}\")\n",
        "  \n",
        "  if user1 == 'paper':\n",
        "    if user2 == 'rock':\n",
        "      print(f\"{username1}: {user1} | {username2}: {user2}\")\n",
        "      print(f\"{username1} wins!\")\n",
        "      user1_score += 1\n",
        "      print(f\"Score = {username1}: {user1_score} | {username2}: {user2_score}\")\n",
        "    elif user2 == 'scissors':\n",
        "      print(f\"{username1}: {user1} | {username2}: {user2}\")\n",
        "      print(f\"{username2} wins!\")\n",
        "      user2_score += 1\n",
        "      print(f\"Score = {username1}: {user1_score} | {username2}: {user2_score}\")\n",
        "    elif user2 == 'paper':\n",
        "      print(f\"{username1}: {user1} | {username2}: {user2}\")\n",
        "      print(f\"Draw!\")\n",
        "      print(f\"Score = {username1}: {user1_score} | {username2}: {user2_score}\")\n",
        "  \n",
        "  if user1 == 'rock':\n",
        "    if user2 == 'paper':\n",
        "      print(f\"{username1}: {user1} | {username2}: {user2}\")\n",
        "      print(f\"{username2} wins!\")\n",
        "      user2_score += 1\n",
        "      print(f\"Score = {username1}: {user1_score} | {username2}: {user2_score}\")\n",
        "    elif user2 == 'scissors':\n",
        "      print(f\"{username1}: {user1} | {username2}: {user2}\")\n",
        "      print(f\"{username1} wins!\")\n",
        "      user1_score += 1\n",
        "      print(f\"Score = {username1}: {user1_score} | {username2}: {user2_score}\")\n",
        "    elif user2 == 'rock':\n",
        "      print(f\"{username1}: {user1} | {username2}: {user2}\")\n",
        "      print(f\"Draw!\")\n",
        "      print(f\"Score = {username1}: {user1_score} | {username2}: {user2_score}\")\n",
        "  \n",
        "  if user1_score == 3:\n",
        "    print(f\"{username1} wins the game!\")\n",
        "    break\n",
        "  elif user2_score == 3:\n",
        "    print(f\"{username2} wins the game!\")\n",
        "    break\n",
        "\n",
        "\n",
        "\n"
      ],
      "execution_count": 18,
      "outputs": [
        {
          "output_type": "stream",
          "name": "stdout",
          "text": [
            "Enter player one's name: athena\n",
            "Enter player two's name: brian\n",
            "athena: rock, paper, scissors? rock\n",
            "brian: rock, paper, scissors? paper\n",
            "athena: rock | brian: paper\n",
            "brian wins!\n",
            "Score = athena: 0 | brian: 1\n",
            "athena: rock, paper, scissors? scissors\n",
            "brian: rock, paper, scissors? scissors\n",
            "athena: scissors | brian: scissors\n",
            "Draw!\n",
            "Score = athena: 0 | brian: 1\n",
            "athena: rock, paper, scissors? rock\n",
            "brian: rock, paper, scissors? scissors\n",
            "athena: rock | brian: scissors\n",
            "athena wins!\n",
            "Score = athena: 1 | brian: 1\n",
            "athena: rock, paper, scissors? paper\n",
            "brian: rock, paper, scissors? rock\n",
            "athena: paper | brian: rock\n",
            "athena wins!\n",
            "Score = athena: 2 | brian: 1\n",
            "athena: rock, paper, scissors? rock\n",
            "brian: rock, paper, scissors? scissors\n",
            "athena: rock | brian: scissors\n",
            "athena wins!\n",
            "Score = athena: 3 | brian: 1\n",
            "athena wins the game!\n"
          ]
        }
      ]
    },
    {
      "cell_type": "code",
      "metadata": {
        "colab": {
          "base_uri": "https://localhost:8080/"
        },
        "id": "FA_s0JHen9Sh",
        "outputId": "9a2a1e21-1be9-408d-a2dc-0ed0f3cfdd68"
      },
      "source": [
        "# create a function that finds the maximum number of three numbers\n",
        "\n",
        "\n",
        "\n",
        "def max_of_two(x, y):\n",
        "  if x > y:\n",
        "    return x\n",
        "  return y\n",
        "\n",
        "def max_of_three(x, y, z):\n",
        "  return max_of_two(x, max_of_two(y, z)) #y = z\n",
        "\n",
        "max_of_three(10, 26, 50)"
      ],
      "execution_count": 24,
      "outputs": [
        {
          "output_type": "execute_result",
          "data": {
            "text/plain": [
              "50"
            ]
          },
          "metadata": {},
          "execution_count": 24
        }
      ]
    },
    {
      "cell_type": "code",
      "metadata": {
        "id": "-Ul05xQdudhH"
      },
      "source": [
        ""
      ],
      "execution_count": null,
      "outputs": []
    }
  ]
}