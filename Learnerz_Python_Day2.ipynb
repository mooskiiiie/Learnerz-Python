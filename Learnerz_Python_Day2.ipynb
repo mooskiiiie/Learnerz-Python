{
  "nbformat": 4,
  "nbformat_minor": 0,
  "metadata": {
    "colab": {
      "name": "Learnerz_Python_Day2.ipynb",
      "provenance": [],
      "authorship_tag": "ABX9TyMkDAN+yZcxfYWqJuvcc3Zm",
      "include_colab_link": true
    },
    "kernelspec": {
      "name": "python3",
      "display_name": "Python 3"
    },
    "language_info": {
      "name": "python"
    }
  },
  "cells": [
    {
      "cell_type": "markdown",
      "metadata": {
        "id": "view-in-github",
        "colab_type": "text"
      },
      "source": [
        "<a href=\"https://colab.research.google.com/github/mooskiiiie/Learnerz-Python/blob/main/Learnerz_Python_Day2.ipynb\" target=\"_parent\"><img src=\"https://colab.research.google.com/assets/colab-badge.svg\" alt=\"Open In Colab\"/></a>"
      ]
    },
    {
      "cell_type": "code",
      "metadata": {
        "id": "UpwYPKUP0K7L",
        "colab": {
          "base_uri": "https://localhost:8080/"
        },
        "outputId": "e6a0c8e6-dd5d-4e5d-fb98-4b4695e9798f"
      },
      "source": [
        "print('Hello There')"
      ],
      "execution_count": 84,
      "outputs": [
        {
          "output_type": "stream",
          "text": [
            "Hello There\n"
          ],
          "name": "stdout"
        }
      ]
    },
    {
      "cell_type": "code",
      "metadata": {
        "colab": {
          "base_uri": "https://localhost:8080/"
        },
        "id": "tcBSrMEI3THA",
        "outputId": "05fdc87b-d6d1-4f8a-a6df-8e7b881d49b5"
      },
      "source": [
        "print(5)"
      ],
      "execution_count": 85,
      "outputs": [
        {
          "output_type": "stream",
          "text": [
            "5\n"
          ],
          "name": "stdout"
        }
      ]
    },
    {
      "cell_type": "code",
      "metadata": {
        "colab": {
          "base_uri": "https://localhost:8080/"
        },
        "id": "AR9sksya3XXy",
        "outputId": "ec885eee-0c5d-4014-a205-dccdf7bc73a2"
      },
      "source": [
        "a = 10\n",
        "print(a)"
      ],
      "execution_count": 86,
      "outputs": [
        {
          "output_type": "stream",
          "text": [
            "10\n"
          ],
          "name": "stdout"
        }
      ]
    },
    {
      "cell_type": "code",
      "metadata": {
        "colab": {
          "base_uri": "https://localhost:8080/"
        },
        "id": "YluRbJUg3hJ2",
        "outputId": "5f188ed5-7297-40be-dd63-e4eb89665e42"
      },
      "source": [
        "a = 'hello'\n",
        "print(a)"
      ],
      "execution_count": 87,
      "outputs": [
        {
          "output_type": "stream",
          "text": [
            "hello\n"
          ],
          "name": "stdout"
        }
      ]
    },
    {
      "cell_type": "code",
      "metadata": {
        "colab": {
          "base_uri": "https://localhost:8080/"
        },
        "id": "T0LCAbHh3jkl",
        "outputId": "5d1d2257-b04a-4b3d-fe6d-d8c7c80eefa5"
      },
      "source": [
        "x = 1\n",
        "y = 'yes'\n",
        "z = x\n",
        "x = y\n",
        "y = z\n",
        "print(x)\n",
        "print(y)"
      ],
      "execution_count": 89,
      "outputs": [
        {
          "output_type": "stream",
          "text": [
            "yes\n",
            "1\n"
          ],
          "name": "stdout"
        }
      ]
    },
    {
      "cell_type": "code",
      "metadata": {
        "colab": {
          "base_uri": "https://localhost:8080/"
        },
        "id": "Tgi2KwZo3tgB",
        "outputId": "fff33e5c-2b61-4e70-ad31-0be3d4d9bff4"
      },
      "source": [
        "a = False\n",
        "type(a)"
      ],
      "execution_count": 94,
      "outputs": [
        {
          "output_type": "execute_result",
          "data": {
            "text/plain": [
              "bool"
            ]
          },
          "metadata": {
            "tags": []
          },
          "execution_count": 94
        }
      ]
    },
    {
      "cell_type": "code",
      "metadata": {
        "id": "dwRPbECG4e8H"
      },
      "source": [
        "string = \"this is a string\"\n",
        "integer = 5\n",
        "floatt = 9.99999\n",
        "boolean = False "
      ],
      "execution_count": 95,
      "outputs": []
    },
    {
      "cell_type": "code",
      "metadata": {
        "colab": {
          "base_uri": "https://localhost:8080/",
          "height": 35
        },
        "id": "RaWw-tmC5ktT",
        "outputId": "4d2d76bd-ea19-439e-bbc0-13aac1283e70"
      },
      "source": [
        "name = 'ARIANA GRANDE asd asd asd ad'\n",
        "name.lower()"
      ],
      "execution_count": 104,
      "outputs": [
        {
          "output_type": "execute_result",
          "data": {
            "application/vnd.google.colaboratory.intrinsic+json": {
              "type": "string"
            },
            "text/plain": [
              "'ariana grande asd asd asd ad'"
            ]
          },
          "metadata": {
            "tags": []
          },
          "execution_count": 104
        }
      ]
    },
    {
      "cell_type": "code",
      "metadata": {
        "colab": {
          "base_uri": "https://localhost:8080/",
          "height": 35
        },
        "id": "78A7R5dk6Q7b",
        "outputId": "13ae0d63-f00d-462f-f801-0ab85410bda9"
      },
      "source": [
        "name2 = 'Michael Jackson'\n",
        "name2.upper()"
      ],
      "execution_count": 101,
      "outputs": [
        {
          "output_type": "execute_result",
          "data": {
            "application/vnd.google.colaboratory.intrinsic+json": {
              "type": "string"
            },
            "text/plain": [
              "'MICHAEL JACKSON'"
            ]
          },
          "metadata": {
            "tags": []
          },
          "execution_count": 101
        }
      ]
    },
    {
      "cell_type": "code",
      "metadata": {
        "colab": {
          "base_uri": "https://localhost:8080/"
        },
        "id": "ZdI4t1N86dxL",
        "outputId": "52947ba3-313c-44ab-d35a-54eae636592b"
      },
      "source": [
        "name2.islower()"
      ],
      "execution_count": 102,
      "outputs": [
        {
          "output_type": "execute_result",
          "data": {
            "text/plain": [
              "False"
            ]
          },
          "metadata": {
            "tags": []
          },
          "execution_count": 102
        }
      ]
    },
    {
      "cell_type": "code",
      "metadata": {
        "colab": {
          "base_uri": "https://localhost:8080/"
        },
        "id": "junqmLoQ6r9-",
        "outputId": "8da16159-12c2-4741-ece1-97e18bb700f6"
      },
      "source": [
        "print(len(name))"
      ],
      "execution_count": 105,
      "outputs": [
        {
          "output_type": "stream",
          "text": [
            "28\n"
          ],
          "name": "stdout"
        }
      ]
    },
    {
      "cell_type": "code",
      "metadata": {
        "colab": {
          "base_uri": "https://localhost:8080/"
        },
        "id": "iMZ0L_wj7aKX",
        "outputId": "e45b20a6-3d63-4093-fccd-de77c703943a"
      },
      "source": [
        "print(5 + 5)"
      ],
      "execution_count": 106,
      "outputs": [
        {
          "output_type": "stream",
          "text": [
            "10\n"
          ],
          "name": "stdout"
        }
      ]
    },
    {
      "cell_type": "code",
      "metadata": {
        "colab": {
          "base_uri": "https://localhost:8080/"
        },
        "id": "IAXPvwZv8Vz9",
        "outputId": "d6e537ef-0cc5-4a92-b5e0-d2ebe3d0497c"
      },
      "source": [
        "print(10 - 5)"
      ],
      "execution_count": 107,
      "outputs": [
        {
          "output_type": "stream",
          "text": [
            "5\n"
          ],
          "name": "stdout"
        }
      ]
    },
    {
      "cell_type": "code",
      "metadata": {
        "colab": {
          "base_uri": "https://localhost:8080/"
        },
        "id": "t31mo3398XQw",
        "outputId": "a08e859a-0319-418f-a782-2b21c3d5bf2d"
      },
      "source": [
        "print(100 - 200)"
      ],
      "execution_count": 108,
      "outputs": [
        {
          "output_type": "stream",
          "text": [
            "-100\n"
          ],
          "name": "stdout"
        }
      ]
    },
    {
      "cell_type": "code",
      "metadata": {
        "colab": {
          "base_uri": "https://localhost:8080/"
        },
        "id": "Nq8eAbDZ8ZGk",
        "outputId": "53e7b8a0-28f3-4aa8-d15b-d3d6310baf53"
      },
      "source": [
        "print(5 * 5)"
      ],
      "execution_count": 109,
      "outputs": [
        {
          "output_type": "stream",
          "text": [
            "25\n"
          ],
          "name": "stdout"
        }
      ]
    },
    {
      "cell_type": "code",
      "metadata": {
        "colab": {
          "base_uri": "https://localhost:8080/"
        },
        "id": "yW0Xt2nw8bRe",
        "outputId": "ee8d86b0-5dce-4030-a276-db2081949c6e"
      },
      "source": [
        "print(3 / 2)"
      ],
      "execution_count": 110,
      "outputs": [
        {
          "output_type": "stream",
          "text": [
            "1.5\n"
          ],
          "name": "stdout"
        }
      ]
    },
    {
      "cell_type": "code",
      "metadata": {
        "colab": {
          "base_uri": "https://localhost:8080/"
        },
        "id": "gE54Ukdm8dlP",
        "outputId": "2c1ea553-55ec-4c74-9c11-188e60956deb"
      },
      "source": [
        "print(3 // 2)"
      ],
      "execution_count": 111,
      "outputs": [
        {
          "output_type": "stream",
          "text": [
            "1\n"
          ],
          "name": "stdout"
        }
      ]
    },
    {
      "cell_type": "code",
      "metadata": {
        "colab": {
          "base_uri": "https://localhost:8080/"
        },
        "id": "HTbVEayp8fzw",
        "outputId": "16218771-a83b-4d23-a1aa-c71706808570"
      },
      "source": [
        "x = 25\n",
        "y = 100\n",
        "print(x + y)"
      ],
      "execution_count": 112,
      "outputs": [
        {
          "output_type": "stream",
          "text": [
            "125\n"
          ],
          "name": "stdout"
        }
      ]
    },
    {
      "cell_type": "code",
      "metadata": {
        "colab": {
          "base_uri": "https://localhost:8080/"
        },
        "id": "yfEniMr_8lWE",
        "outputId": "563ff830-f0fa-48d7-c224-b3bad05c381e"
      },
      "source": [
        "print(4 + 5 * 6)"
      ],
      "execution_count": 113,
      "outputs": [
        {
          "output_type": "stream",
          "text": [
            "34\n"
          ],
          "name": "stdout"
        }
      ]
    },
    {
      "cell_type": "code",
      "metadata": {
        "colab": {
          "base_uri": "https://localhost:8080/"
        },
        "id": "Je0KeNTn8wyD",
        "outputId": "224dba95-7b32-42cd-a06c-8b7d55676e91"
      },
      "source": [
        "user = int(input())"
      ],
      "execution_count": 117,
      "outputs": [
        {
          "output_type": "stream",
          "text": [
            "5\n"
          ],
          "name": "stdout"
        }
      ]
    },
    {
      "cell_type": "code",
      "metadata": {
        "colab": {
          "base_uri": "https://localhost:8080/"
        },
        "id": "p913iDpT9XzI",
        "outputId": "8b3db3d9-bf02-42df-c32b-24c83320304d"
      },
      "source": [
        "user = str(user)\n",
        "print(type(user))"
      ],
      "execution_count": 121,
      "outputs": [
        {
          "output_type": "stream",
          "text": [
            "<class 'str'>\n"
          ],
          "name": "stdout"
        }
      ]
    },
    {
      "cell_type": "code",
      "metadata": {
        "colab": {
          "base_uri": "https://localhost:8080/"
        },
        "id": "t9_-6kAc9ksW",
        "outputId": "33656eb4-de49-4e1b-d799-8bcd3b5fc831"
      },
      "source": [
        "print('my number is ' + user)"
      ],
      "execution_count": 123,
      "outputs": [
        {
          "output_type": "stream",
          "text": [
            "my number is 5\n"
          ],
          "name": "stdout"
        }
      ]
    },
    {
      "cell_type": "code",
      "metadata": {
        "colab": {
          "base_uri": "https://localhost:8080/"
        },
        "id": "eldrDCrH-J0y",
        "outputId": "9c87bd80-f4ae-4a3e-b47d-b2946dbdd706"
      },
      "source": [
        "#first line print the sum of a and b\n",
        "#difference of a and b\n",
        "#product of a and b\n",
        "#remainder of a and b\n",
        "#quotient of a and b without a remainder\n",
        "\n",
        "a = int(input())\n",
        "b = int(input())\n",
        "\n",
        "print(a + b)\n",
        "print(a - b)\n",
        "print(a * b)\n",
        "print(a / b)\n",
        "print(a // b)"
      ],
      "execution_count": 124,
      "outputs": [
        {
          "output_type": "stream",
          "text": [
            "10\n",
            "5\n",
            "15\n",
            "5\n",
            "50\n",
            "2.0\n",
            "2\n"
          ],
          "name": "stdout"
        }
      ]
    },
    {
      "cell_type": "code",
      "metadata": {
        "colab": {
          "base_uri": "https://localhost:8080/",
          "height": 131
        },
        "id": "Sd1jbPc3_jB3",
        "outputId": "1209a96f-c330-4e95-c9a6-73317a757a0c"
      },
      "source": [
        "# get the sum of a and b and add the sum to the string 'meters'\n",
        "a = input()\n",
        "b = input()\n",
        "c = 'meters'\n",
        "print('50 meters')"
      ],
      "execution_count": 125,
      "outputs": [
        {
          "output_type": "error",
          "ename": "SyntaxError",
          "evalue": "ignored",
          "traceback": [
            "\u001b[0;36m  File \u001b[0;32m\"<ipython-input-125-39b7113e4777>\"\u001b[0;36m, line \u001b[0;32m2\u001b[0m\n\u001b[0;31m    a =\u001b[0m\n\u001b[0m        ^\u001b[0m\n\u001b[0;31mSyntaxError\u001b[0m\u001b[0;31m:\u001b[0m invalid syntax\n"
          ]
        }
      ]
    },
    {
      "cell_type": "code",
      "metadata": {
        "colab": {
          "base_uri": "https://localhost:8080/"
        },
        "id": "IvIgXLcR_6-g",
        "outputId": "4cab3795-e466-4708-d6db-c37541d4ff68"
      },
      "source": [
        "a = int(input())\n",
        "b = int(input())\n",
        "c = ' Meters'\n",
        "print(str(a + b) + c)"
      ],
      "execution_count": 129,
      "outputs": [
        {
          "output_type": "stream",
          "text": [
            "5\n",
            "4\n",
            "9 Meters\n"
          ],
          "name": "stdout"
        }
      ]
    },
    {
      "cell_type": "code",
      "metadata": {
        "id": "cxgpqhVUB3Pf"
      },
      "source": [
        ""
      ],
      "execution_count": null,
      "outputs": []
    }
  ]
}