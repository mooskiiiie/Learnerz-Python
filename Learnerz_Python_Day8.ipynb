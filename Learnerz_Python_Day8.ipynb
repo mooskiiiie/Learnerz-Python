{
  "nbformat": 4,
  "nbformat_minor": 0,
  "metadata": {
    "colab": {
      "name": "Learnerz_Python_Day8.ipynb",
      "provenance": [],
      "authorship_tag": "ABX9TyNZ1V3BfAzR0kSdLGLtP5IX",
      "include_colab_link": true
    },
    "kernelspec": {
      "name": "python3",
      "display_name": "Python 3"
    },
    "language_info": {
      "name": "python"
    }
  },
  "cells": [
    {
      "cell_type": "markdown",
      "metadata": {
        "id": "view-in-github",
        "colab_type": "text"
      },
      "source": [
        "<a href=\"https://colab.research.google.com/github/mooskiiiie/Learnerz-Python/blob/main/Learnerz_Python_Day8.ipynb\" target=\"_parent\"><img src=\"https://colab.research.google.com/assets/colab-badge.svg\" alt=\"Open In Colab\"/></a>"
      ]
    },
    {
      "cell_type": "code",
      "metadata": {
        "colab": {
          "base_uri": "https://localhost:8080/"
        },
        "id": "Fh99Ve4a8ViS",
        "outputId": "0af58c49-67b7-4784-ea5d-acfdd5c61fa8"
      },
      "source": [
        "# the value of a and b should be the same\n",
        "# len()\n",
        "a = \"HELLO\"\n",
        "b = \"\"\n",
        "\n",
        "while len(a) != len(b):\n",
        "  b = input()\n",
        "  print(b)\n"
      ],
      "execution_count": 2,
      "outputs": [
        {
          "output_type": "stream",
          "text": [
            "helloo\n",
            "helloo\n",
            "HELLO\n",
            "HELLO\n"
          ],
          "name": "stdout"
        }
      ]
    },
    {
      "cell_type": "code",
      "metadata": {
        "colab": {
          "base_uri": "https://localhost:8080/"
        },
        "id": "fOLdU8Zw9NXf",
        "outputId": "b9a99066-00dd-41a0-87d1-fef5e0b375fa"
      },
      "source": [
        "x = 0\n",
        "maximum = 0\n",
        "minimum = 0\n",
        "num_of_entries = int(input())\n",
        "\n",
        "while x < num_of_entries:\n",
        "  number = int(input())\n",
        "  if maximum == 0 or maximum < number:\n",
        "    maximum = number\n",
        "  if minimum == 0 or minimum > number:\n",
        "    minimum = number\n",
        "  x += 1\n",
        "\n",
        "print(\"Maximum: \", maximum)\n",
        "print(\"Minimum: \", minimum)\n",
        "print(\"Range: \", maximum - minimum)"
      ],
      "execution_count": 3,
      "outputs": [
        {
          "output_type": "stream",
          "text": [
            "5\n",
            "10\n",
            "20\n",
            "30\n",
            "40\n",
            "50\n",
            "Maximum:  50\n",
            "Minimum:  10\n",
            "Range:  40\n"
          ],
          "name": "stdout"
        }
      ]
    },
    {
      "cell_type": "code",
      "metadata": {
        "id": "LMpYeh76-MyE"
      },
      "source": [
        "#FUNCTIONS\n",
        "# collection of instructions or code that you can use anytime you want\n",
        "# word()\n",
        "# print(), len(), str(), int()"
      ],
      "execution_count": 4,
      "outputs": []
    },
    {
      "cell_type": "code",
      "metadata": {
        "colab": {
          "base_uri": "https://localhost:8080/"
        },
        "id": "g37nJr3n_I_o",
        "outputId": "1680ab22-7b01-4885-c1a4-44a54005ce96"
      },
      "source": [
        "def function1():\n",
        "  print(\"Hello\")\n",
        "  print(\"World\")\n",
        "function1()\n",
        "print(\"This is outside the function\")"
      ],
      "execution_count": 8,
      "outputs": [
        {
          "output_type": "stream",
          "text": [
            "Hello\n",
            "World\n",
            "This is outside the function\n"
          ],
          "name": "stdout"
        }
      ]
    },
    {
      "cell_type": "code",
      "metadata": {
        "colab": {
          "base_uri": "https://localhost:8080/"
        },
        "id": "2RQshGaD__p1",
        "outputId": "de8d08f8-aa42-4d72-8402-353373ead447"
      },
      "source": [
        "function1()\n",
        "function1()\n",
        "function1()\n",
        "function1()"
      ],
      "execution_count": 7,
      "outputs": [
        {
          "output_type": "stream",
          "text": [
            "Hello\n",
            "World\n",
            "Hello\n",
            "World\n",
            "Hello\n",
            "World\n",
            "Hello\n",
            "World\n"
          ],
          "name": "stdout"
        }
      ]
    },
    {
      "cell_type": "code",
      "metadata": {
        "id": "lXhk0BuuALIs"
      },
      "source": [
        "# PARAMETERS & ARGUMENTS\n",
        "\n",
        "def function2(x):\n",
        "  return 2 * x"
      ],
      "execution_count": 9,
      "outputs": []
    },
    {
      "cell_type": "code",
      "metadata": {
        "colab": {
          "base_uri": "https://localhost:8080/"
        },
        "id": "UNRyPRMABW-u",
        "outputId": "a2f71c9e-a5e2-44b9-c7e8-01d72ad63dd2"
      },
      "source": [
        "a = function2(10)\n",
        "print(a)"
      ],
      "execution_count": 12,
      "outputs": [
        {
          "output_type": "stream",
          "text": [
            "20\n"
          ],
          "name": "stdout"
        }
      ]
    },
    {
      "cell_type": "code",
      "metadata": {
        "id": "U74dMa-8Bq2E"
      },
      "source": [
        "def function3(x, y):\n",
        "  return x + y"
      ],
      "execution_count": 15,
      "outputs": []
    },
    {
      "cell_type": "code",
      "metadata": {
        "colab": {
          "base_uri": "https://localhost:8080/"
        },
        "id": "0z7tNzZKCbaN",
        "outputId": "e208c9f4-c27f-47da-daf3-512564e4bc9a"
      },
      "source": [
        "b = function3(5, 10)\n",
        "print(b)"
      ],
      "execution_count": 17,
      "outputs": [
        {
          "output_type": "stream",
          "text": [
            "15\n"
          ],
          "name": "stdout"
        }
      ]
    },
    {
      "cell_type": "code",
      "metadata": {
        "colab": {
          "base_uri": "https://localhost:8080/"
        },
        "id": "QXdxSUOLCcfn",
        "outputId": "f6422b7d-81fc-4a5d-c9d4-0dd855669c19"
      },
      "source": [
        "def subtraction(x):\n",
        "  return 10 - x\n",
        "\n",
        "c = subtraction(5)\n",
        "print(c)"
      ],
      "execution_count": 19,
      "outputs": [
        {
          "output_type": "stream",
          "text": [
            "5\n"
          ],
          "name": "stdout"
        }
      ]
    },
    {
      "cell_type": "code",
      "metadata": {
        "id": "qDy_dEl8Daqs"
      },
      "source": [
        "#BMI CALCULATOR\n",
        "name1 = 'athena'\n",
        "height_m1 = 2\n",
        "weight_kg1 = 90\n",
        "\n",
        "name2 = 'seb'\n",
        "height_m2 = 3\n",
        "weight_kg2 = 70\n",
        "\n",
        "name3 = 'brian'\n",
        "height_m3 = 2.5\n",
        "weight_kg3 = 160"
      ],
      "execution_count": 20,
      "outputs": []
    },
    {
      "cell_type": "code",
      "metadata": {
        "id": "fFq-9sOeENXt"
      },
      "source": [
        "# bmi = kg / m**2\n",
        "def bmi_calculator(name, weight_kg, height_m):\n",
        "  bmi = weight_kg / (height_m ** 2)\n",
        "  print(\"bmi: \")\n",
        "  print(bmi)\n",
        "  if bmi < 25:\n",
        "    return name + \" is not overweight\"\n",
        "  else:\n",
        "    return name + \" is overweight\"\n"
      ],
      "execution_count": 27,
      "outputs": []
    },
    {
      "cell_type": "code",
      "metadata": {
        "colab": {
          "base_uri": "https://localhost:8080/",
          "height": 136
        },
        "id": "7HQPxgv7Es7D",
        "outputId": "df0d828a-a1cf-4f38-833e-c91617cc9ada"
      },
      "source": [
        "bmi_calculator(name1, weight_kg1, height_m1)\n",
        "bmi_calculator(name2, weight_kg2, height_m2)\n",
        "bmi_calculator(name3, weight_kg3, height_m3)"
      ],
      "execution_count": 29,
      "outputs": [
        {
          "output_type": "stream",
          "text": [
            "bmi: \n",
            "22.5\n",
            "bmi: \n",
            "7.777777777777778\n",
            "bmi: \n",
            "25.6\n"
          ],
          "name": "stdout"
        },
        {
          "output_type": "execute_result",
          "data": {
            "application/vnd.google.colaboratory.intrinsic+json": {
              "type": "string"
            },
            "text/plain": [
              "'brian is overweight'"
            ]
          },
          "metadata": {},
          "execution_count": 29
        }
      ]
    },
    {
      "cell_type": "code",
      "metadata": {
        "colab": {
          "base_uri": "https://localhost:8080/"
        },
        "id": "-EqebxG9Fa0D",
        "outputId": "9d5f4da9-7b4a-41cf-a936-6d5db175f461"
      },
      "source": [
        "a = bmi_calculator(name1, weight_kg1, height_m1)\n",
        "b = bmi_calculator(name2, weight_kg2, height_m2)\n",
        "c = bmi_calculator(name3, weight_kg3, height_m3)\n",
        "\n",
        "print(a)\n",
        "print(b)\n",
        "print(c)"
      ],
      "execution_count": 30,
      "outputs": [
        {
          "output_type": "stream",
          "text": [
            "bmi: \n",
            "22.5\n",
            "bmi: \n",
            "7.777777777777778\n",
            "bmi: \n",
            "25.6\n",
            "athena is not overweight\n",
            "seb is not overweight\n",
            "brian is overweight\n"
          ],
          "name": "stdout"
        }
      ]
    },
    {
      "cell_type": "code",
      "metadata": {
        "id": "8Ez3TL6CG7Td"
      },
      "source": [
        ""
      ],
      "execution_count": null,
      "outputs": []
    }
  ]
}