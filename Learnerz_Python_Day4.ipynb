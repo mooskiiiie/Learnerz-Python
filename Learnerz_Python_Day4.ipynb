{
  "nbformat": 4,
  "nbformat_minor": 0,
  "metadata": {
    "colab": {
      "name": "Learnerz_Python_Day4.ipynb",
      "provenance": [],
      "authorship_tag": "ABX9TyMYkWhIazi3K1mluiv0g9SA",
      "include_colab_link": true
    },
    "kernelspec": {
      "name": "python3",
      "display_name": "Python 3"
    },
    "language_info": {
      "name": "python"
    }
  },
  "cells": [
    {
      "cell_type": "markdown",
      "metadata": {
        "id": "view-in-github",
        "colab_type": "text"
      },
      "source": [
        "<a href=\"https://colab.research.google.com/github/mooskiiiie/Learnerz-Python/blob/main/Learnerz_Python_Day4.ipynb\" target=\"_parent\"><img src=\"https://colab.research.google.com/assets/colab-badge.svg\" alt=\"Open In Colab\"/></a>"
      ]
    },
    {
      "cell_type": "code",
      "metadata": {
        "colab": {
          "base_uri": "https://localhost:8080/"
        },
        "id": "KV-PZRTmmAwB",
        "outputId": "f909cd95-adbb-48fa-eeea-1197833a3bd4"
      },
      "source": [
        "# conditionals\n",
        "\n",
        "a = 1\n",
        "b = 2\n",
        "\n",
        "if a < b:\n",
        "  print(\"a is less than b\")\n",
        "  print(\"a is indeed less than b\")"
      ],
      "execution_count": 4,
      "outputs": [
        {
          "output_type": "stream",
          "text": [
            "a is less than b\n",
            "a is indeed less than b\n"
          ],
          "name": "stdout"
        }
      ]
    },
    {
      "cell_type": "code",
      "metadata": {
        "colab": {
          "base_uri": "https://localhost:8080/"
        },
        "id": "GASdZgJ8mwMz",
        "outputId": "43ad13f6-9130-4446-89fb-198e9edc7db6"
      },
      "source": [
        "c = 21\n",
        "d = 20\n",
        "\n",
        "if c < d:\n",
        "  print(\"c is less than d\")\n",
        "elif c > d:\n",
        "  print(\"c is greater than d\")\n",
        "elif c == d:\n",
        "  print(\"c is equal to d\")\n",
        "else:\n",
        "  print('c is not equal to d')\n",
        "\n",
        "\n",
        "if c == 20:\n",
        "  print(\"True\")\n",
        "elif c != '20':\n",
        "  print('Not a string')\n",
        "\n"
      ],
      "execution_count": 18,
      "outputs": [
        {
          "output_type": "stream",
          "text": [
            "c is greater than d\n",
            "Not a string\n"
          ],
          "name": "stdout"
        }
      ]
    },
    {
      "cell_type": "code",
      "metadata": {
        "colab": {
          "base_uri": "https://localhost:8080/"
        },
        "id": "2O3BYLzjnlbj",
        "outputId": "90611899-a779-428e-b227-a903513f41c4"
      },
      "source": [
        "# NESTED CONDITIONS\n",
        "\n",
        "x = 4\n",
        "\n",
        "if x == 4:\n",
        "  if x > 5:\n",
        "    print('x is greater than 5')\n",
        "  else:\n",
        "    if x < 5:\n",
        "      print('True')\n"
      ],
      "execution_count": 22,
      "outputs": [
        {
          "output_type": "stream",
          "text": [
            "True\n"
          ],
          "name": "stdout"
        }
      ]
    },
    {
      "cell_type": "code",
      "metadata": {
        "colab": {
          "base_uri": "https://localhost:8080/"
        },
        "id": "ZzNmWWhMrX6Q",
        "outputId": "b0f1ab6b-9811-43dc-c6d7-5360cfb56837"
      },
      "source": [
        "height_m = 2\n",
        "weight_kg = 150\n",
        "\n",
        "bmi = weight_kg / (height_m ** 2)\n",
        "print(\"bmi: \" + str(bmi))\n",
        "if bmi < 25:\n",
        "  print(\"You are not overweight\")\n",
        "else:\n",
        "  print(\"You are overweight\")"
      ],
      "execution_count": 28,
      "outputs": [
        {
          "output_type": "stream",
          "text": [
            "bmi: 37.5\n",
            "You are overweight\n"
          ],
          "name": "stdout"
        }
      ]
    },
    {
      "cell_type": "code",
      "metadata": {
        "id": "5CckXnohtMVn"
      },
      "source": [
        "# create a program that determines if a is higher than b\n",
        "# create variables a and b (Could be a integer or float)\n",
        "# print True if a is higher than b. Otherwise print False"
      ],
      "execution_count": 29,
      "outputs": []
    },
    {
      "cell_type": "code",
      "metadata": {
        "id": "GAJp6pw3w4QE"
      },
      "source": [
        "boolean operators\n",
        "\n"
      ],
      "execution_count": null,
      "outputs": []
    }
  ]
}