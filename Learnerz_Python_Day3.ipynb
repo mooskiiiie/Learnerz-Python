{
  "nbformat": 4,
  "nbformat_minor": 0,
  "metadata": {
    "colab": {
      "name": "Learnerz_Python_Day3.ipynb",
      "provenance": [],
      "authorship_tag": "ABX9TyMsa1hWjfi1Ee8Xxyxy0D4K",
      "include_colab_link": true
    },
    "kernelspec": {
      "name": "python3",
      "display_name": "Python 3"
    },
    "language_info": {
      "name": "python"
    }
  },
  "cells": [
    {
      "cell_type": "markdown",
      "metadata": {
        "id": "view-in-github",
        "colab_type": "text"
      },
      "source": [
        "<a href=\"https://colab.research.google.com/github/mooskiiiie/Learnerz-Python/blob/main/Learnerz_Python_Day3.ipynb\" target=\"_parent\"><img src=\"https://colab.research.google.com/assets/colab-badge.svg\" alt=\"Open In Colab\"/></a>"
      ]
    },
    {
      "cell_type": "code",
      "metadata": {
        "id": "GDH2Ssu6P-LM"
      },
      "source": [
        "#US Dollar to Php\n",
        "# 1 dollar = 50 pesos"
      ],
      "execution_count": 2,
      "outputs": []
    },
    {
      "cell_type": "code",
      "metadata": {
        "colab": {
          "base_uri": "https://localhost:8080/"
        },
        "id": "1FaLGVevThl3",
        "outputId": "87a400c7-b8f6-41ef-ea27-8c77d1cfa5d7"
      },
      "source": [
        "dollars = int(input())\n",
        "print(str(dollars * 50) + \" Pesos\")"
      ],
      "execution_count": 5,
      "outputs": [
        {
          "output_type": "stream",
          "text": [
            "2\n",
            "100 Pesos\n"
          ],
          "name": "stdout"
        }
      ]
    },
    {
      "cell_type": "code",
      "metadata": {
        "colab": {
          "base_uri": "https://localhost:8080/"
        },
        "id": "cWzVxJ6wUjB0",
        "outputId": "5b8028da-7de1-4392-be31-123e25d00eea"
      },
      "source": [
        "color = input()\n",
        "plural_noun = input()\n",
        "celebrity = input()\n",
        "\n",
        "print(f\"Roses are {color}\")\n",
        "print(f\"{plural_noun} are blue\")\n",
        "print(f\"I love {celebrity}\")"
      ],
      "execution_count": 7,
      "outputs": [
        {
          "output_type": "stream",
          "text": [
            "pink\n",
            "Apples\n",
            "Michael B Jordan\n",
            "Roses are pink\n",
            "Apples are blue\n",
            "I love Michael B Jordan\n"
          ],
          "name": "stdout"
        }
      ]
    },
    {
      "cell_type": "code",
      "metadata": {
        "colab": {
          "base_uri": "https://localhost:8080/"
        },
        "id": "_2dQ_ecLY3Zy",
        "outputId": "220ee282-f1c4-42c2-fa61-e26f53c428b8"
      },
      "source": [
        "adjective = input(\"Enter an adjective: \")\n",
        "adjective_two = input(\"Enter another adjective: \")\n",
        "bird = input(\"Enter a type of bird: \")\n",
        "room = input(\"Enter a type of room in a house: \")\n",
        "verb = input(\"Enter a verb in past tense: \")\n",
        "verb_two = input(\"Enter a verb in present tense: \")\n",
        "relative = input(\"Enter a relative\\'s name: \")\n",
        "noun = input(\"Enter a noun: \")\n",
        "liquid = input(\"Enter any kind of liquid: \")\n",
        "verb_three = input(\"Enter a verb ending in ing: \")\n",
        "body_part = input(\"Enter any body part (plural): \")\n",
        "noun_two = input(\"Enter a plural noun: \")\n",
        "verb_four = input(\"Enter another verb ending in ing: \")\n",
        "noun_three = input(\"Enter another noun: \") \n",
        "\n",
        "\n",
        "print(f\"It was a {adjective}, cold November Day.\")\n",
        "print(f\"I woke up to the {adjective_two} smell of {bird}\")\n",
        "print(f\"roasting in the {room} downstairs.\")\n",
        "print(f\"I {verb} down the stairs to see if I could help {verb_two} the dinner.\")\n",
        "print(f\"My mom said, 'See if {relative} needs a fresh {noun}'. So I carried a tray of glasses full of {liquid} into the {verb_three} room\")\n",
        "print(f\"When I got there, I couldn't believe my {body_part}!\")\n",
        "print(f\"There were {noun_two} {verb_four} on the {noun_three}!\")"
      ],
      "execution_count": 9,
      "outputs": [
        {
          "output_type": "stream",
          "text": [
            "Enter an adjective: adorable\n",
            "Enter another adjective: big\n",
            "Enter a type of bird: Owl\n",
            "Enter a type of room in a house: restroom\n",
            "Enter a verb in past tense: jumped\n",
            "Enter a verb in present tense: run\n",
            "Enter a relative's name: Karen\n",
            "Enter a noun: book\n",
            "Enter any kind of liquid: saliva\n",
            "Enter a verb ending in ing: falling\n",
            "Enter any body part (plural): butcheeks\n",
            "Enter a plural noun: shoes\n",
            "Enter another verb ending in ing: coding\n",
            "Enter another noun: laptop\n",
            "It was a adorable, cold November Day.\n",
            "I woke up to the big smell of Owl\n",
            "roasting in the restroom downstairs.\n",
            "I jumped down the stairs to see if I could help run the dinner.\n",
            "My mom said, 'See if Karen needs a fresh book'. So I carried a tray of glasses full of saliva into the falling room\n",
            "When I got there, I couldn't believe my butcheeks!\n",
            "There were shoes coding on the laptop!\n"
          ],
          "name": "stdout"
        }
      ]
    },
    {
      "cell_type": "code",
      "metadata": {
        "colab": {
          "base_uri": "https://localhost:8080/"
        },
        "id": "l__nfWqzZ7-p",
        "outputId": "99f230d6-1ad6-4592-eda4-82811dd8a99b"
      },
      "source": [
        "# boolean operators <> = !=\n",
        "# conditionals if elif else\n",
        "# logical operators and or in\n",
        "a = 6\n",
        "b = 10\n",
        "if a != b:\n",
        "  print(\"Yeah tama ka dude\")\n",
        "else:\n",
        "  print(\"Mali ka dude\")"
      ],
      "execution_count": 13,
      "outputs": [
        {
          "output_type": "stream",
          "text": [
            "Yeah tama ka dude\n"
          ],
          "name": "stdout"
        }
      ]
    },
    {
      "cell_type": "code",
      "metadata": {
        "id": "ZVrDsX5ce6Jl"
      },
      "source": [
        ""
      ],
      "execution_count": null,
      "outputs": []
    }
  ]
}