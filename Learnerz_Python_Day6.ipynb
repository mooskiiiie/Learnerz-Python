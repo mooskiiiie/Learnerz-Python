{
  "nbformat": 4,
  "nbformat_minor": 0,
  "metadata": {
    "colab": {
      "name": "Learnerz_Python_Day6.ipynb",
      "provenance": [],
      "authorship_tag": "ABX9TyPP29jaOwDMc+vNaKibU2Jd",
      "include_colab_link": true
    },
    "kernelspec": {
      "name": "python3",
      "display_name": "Python 3"
    },
    "language_info": {
      "name": "python"
    }
  },
  "cells": [
    {
      "cell_type": "markdown",
      "metadata": {
        "id": "view-in-github",
        "colab_type": "text"
      },
      "source": [
        "<a href=\"https://colab.research.google.com/github/mooskiiiie/Learnerz-Python/blob/main/Learnerz_Python_Day6.ipynb\" target=\"_parent\"><img src=\"https://colab.research.google.com/assets/colab-badge.svg\" alt=\"Open In Colab\"/></a>"
      ]
    },
    {
      "cell_type": "code",
      "metadata": {
        "colab": {
          "base_uri": "https://localhost:8080/"
        },
        "id": "UsERQfc9URQb",
        "outputId": "aecad7cc-29cf-4c73-f706-f7b46bcce02e"
      },
      "source": [
        "# and, or, not BOOLEAN OPERATORS\n",
        "# conditions\n",
        "\n",
        "x = 5\n",
        "y = 1\n",
        "\n",
        "if not x > y:\n",
        "  print(\"YES\")\n",
        "else:\n",
        "  print('NO')"
      ],
      "execution_count": 3,
      "outputs": [
        {
          "output_type": "stream",
          "text": [
            "NO\n"
          ],
          "name": "stdout"
        }
      ]
    },
    {
      "cell_type": "code",
      "metadata": {
        "colab": {
          "base_uri": "https://localhost:8080/"
        },
        "id": "Tq-P6TP5WioQ",
        "outputId": "ad3c7ec6-e7b1-4c3c-d04a-686f720ca308"
      },
      "source": [
        "#WHILE LOOP\n",
        "total = 0 #first loop: 1 #second: 3 #third: 6 #fourth: 10 #fifth: 15\n",
        "j = 1 #first loop: 1 #second: 2 #third: 3 #fourth: 4 #fifth: 5\n",
        "\n",
        "while j <= 5:\n",
        "  total += j # add the value of j to total every loop\n",
        "  #INCREMENT means adding\n",
        "  j += 1\n",
        "print(total)\n"
      ],
      "execution_count": 8,
      "outputs": [
        {
          "output_type": "stream",
          "text": [
            "15\n"
          ],
          "name": "stdout"
        }
      ]
    },
    {
      "cell_type": "code",
      "metadata": {
        "colab": {
          "base_uri": "https://localhost:8080/"
        },
        "id": "SYAUVJQAYuXq",
        "outputId": "ff6a8061-f0a7-4136-8d5a-6e8932db365a"
      },
      "source": [
        "# first step: create a counter variable\n",
        "i = 1\n",
        "\n",
        "while i <= 10:\n",
        "  print(i)\n",
        "  i += 1\n",
        "\n",
        "print(\"Done with loop\")"
      ],
      "execution_count": 9,
      "outputs": [
        {
          "output_type": "stream",
          "text": [
            "1\n",
            "2\n",
            "3\n",
            "4\n",
            "5\n",
            "6\n",
            "7\n",
            "8\n",
            "9\n",
            "10\n",
            "Done with loop\n"
          ],
          "name": "stdout"
        }
      ]
    },
    {
      "cell_type": "code",
      "metadata": {
        "colab": {
          "base_uri": "https://localhost:8080/"
        },
        "id": "xSvT8dGneQgS",
        "outputId": "ee56578d-8384-426c-d35c-d8abfc732824"
      },
      "source": [
        "# PROBLEM PYRAMID SCHEME\n",
        "# A program that outputs a triangle of numbers, given a height\n",
        "\n",
        "row = 0 # counter variable\n",
        "\n",
        "while row >= 0:\n",
        "  height = int(input()) # determines the height of the pyramid\n",
        "  number = 0 # 2nd counter variable\n",
        "  container = \"\" # empty string\n",
        "  while number < height:\n",
        "    container += str(number + 1) + \" \"\n",
        "    print(container)\n",
        "    number += 1\n",
        "  break # break out of the loop"
      ],
      "execution_count": 10,
      "outputs": [
        {
          "output_type": "stream",
          "text": [
            "4\n",
            "1 \n",
            "1 2 \n",
            "1 2 3 \n",
            "1 2 3 4 \n"
          ],
          "name": "stdout"
        }
      ]
    },
    {
      "cell_type": "code",
      "metadata": {
        "colab": {
          "base_uri": "https://localhost:8080/",
          "height": 129
        },
        "id": "zXK_cBqDhlfO",
        "outputId": "37bff51e-528e-4db1-bffb-d7b38bb8530b"
      },
      "source": [
        "\n",
        "\n"
      ],
      "execution_count": 11,
      "outputs": [
        {
          "output_type": "error",
          "ename": "SyntaxError",
          "evalue": "ignored",
          "traceback": [
            "\u001b[0;36m  File \u001b[0;32m\"<ipython-input-11-96de3f452103>\"\u001b[0;36m, line \u001b[0;32m6\u001b[0m\n\u001b[0;31m    else:\u001b[0m\n\u001b[0m         ^\u001b[0m\n\u001b[0;31mSyntaxError\u001b[0m\u001b[0;31m:\u001b[0m unexpected EOF while parsing\n"
          ]
        }
      ]
    },
    {
      "cell_type": "code",
      "metadata": {
        "id": "N3ZikhcdkCXn"
      },
      "source": [
        ""
      ],
      "execution_count": null,
      "outputs": []
    }
  ]
}