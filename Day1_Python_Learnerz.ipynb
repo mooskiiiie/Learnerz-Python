{
  "nbformat": 4,
  "nbformat_minor": 0,
  "metadata": {
    "colab": {
      "name": "Day1_Python_Learnerz.ipynb",
      "provenance": [],
      "authorship_tag": "ABX9TyO/Tth20R30dti262BvAQg7",
      "include_colab_link": true
    },
    "kernelspec": {
      "name": "python3",
      "display_name": "Python 3"
    },
    "language_info": {
      "name": "python"
    }
  },
  "cells": [
    {
      "cell_type": "markdown",
      "metadata": {
        "id": "view-in-github",
        "colab_type": "text"
      },
      "source": [
        "<a href=\"https://colab.research.google.com/github/mooskiiiie/Learnerz-Python-Day1/blob/main/Day1_Python_Learnerz.ipynb\" target=\"_parent\"><img src=\"https://colab.research.google.com/assets/colab-badge.svg\" alt=\"Open In Colab\"/></a>"
      ]
    },
    {
      "cell_type": "code",
      "metadata": {
        "id": "45apqTiwVVLk",
        "colab": {
          "base_uri": "https://localhost:8080/"
        },
        "outputId": "4dd40c25-a2f7-4074-d88e-1294d165a6c6"
      },
      "source": [
        "print(\"Hello, World!\")"
      ],
      "execution_count": 37,
      "outputs": [
        {
          "output_type": "stream",
          "text": [
            "Hello, World!\n"
          ],
          "name": "stdout"
        }
      ]
    },
    {
      "cell_type": "code",
      "metadata": {
        "colab": {
          "base_uri": "https://localhost:8080/"
        },
        "id": "hqCTDL1XnUmL",
        "outputId": "c38ac2ce-7acc-4cfb-ef02-d81f53656bfe"
      },
      "source": [
        "print('Hello, I am Coach Basty')"
      ],
      "execution_count": 38,
      "outputs": [
        {
          "output_type": "stream",
          "text": [
            "Hello, I am Coach Basty\n"
          ],
          "name": "stdout"
        }
      ]
    },
    {
      "cell_type": "code",
      "metadata": {
        "colab": {
          "base_uri": "https://localhost:8080/"
        },
        "id": "9MqfVJRins5j",
        "outputId": "2e3e2b23-68ee-4933-e309-47345191114c"
      },
      "source": [
        "print('Hello')"
      ],
      "execution_count": 42,
      "outputs": [
        {
          "output_type": "stream",
          "text": [
            "Hello\n"
          ],
          "name": "stdout"
        }
      ]
    },
    {
      "cell_type": "code",
      "metadata": {
        "colab": {
          "base_uri": "https://localhost:8080/"
        },
        "id": "ewRYZ5OfoAnt",
        "outputId": "c5ef4f72-f6a9-40ff-cb5e-4e119e7604b5"
      },
      "source": [
        "print(1)"
      ],
      "execution_count": 43,
      "outputs": [
        {
          "output_type": "stream",
          "text": [
            "1\n"
          ],
          "name": "stdout"
        }
      ]
    },
    {
      "cell_type": "code",
      "metadata": {
        "colab": {
          "base_uri": "https://localhost:8080/"
        },
        "id": "XXhGSDTIocen",
        "outputId": "ff2eb772-1be4-4269-ba52-33c7ee921cdb"
      },
      "source": [
        "print(4) #im printing number 4\n",
        "print(5)"
      ],
      "execution_count": 46,
      "outputs": [
        {
          "output_type": "stream",
          "text": [
            "4\n",
            "5\n"
          ],
          "name": "stdout"
        }
      ]
    },
    {
      "cell_type": "code",
      "metadata": {
        "id": "aFrjyaQgoldh"
      },
      "source": [
        "#VARIABLES"
      ],
      "execution_count": 45,
      "outputs": []
    },
    {
      "cell_type": "code",
      "metadata": {
        "id": "3hwhC1O5o56X"
      },
      "source": [
        "a = 1"
      ],
      "execution_count": 47,
      "outputs": []
    },
    {
      "cell_type": "code",
      "metadata": {
        "colab": {
          "base_uri": "https://localhost:8080/"
        },
        "id": "cm-DYRbRpZKm",
        "outputId": "3b6df154-466a-411b-8faa-2ac6f505bdb6"
      },
      "source": [
        "print(a)"
      ],
      "execution_count": 48,
      "outputs": [
        {
          "output_type": "stream",
          "text": [
            "1\n"
          ],
          "name": "stdout"
        }
      ]
    },
    {
      "cell_type": "code",
      "metadata": {
        "colab": {
          "base_uri": "https://localhost:8080/"
        },
        "id": "4ksM2PCnpeaz",
        "outputId": "f760b919-14dd-4c20-a878-82ea05d30599"
      },
      "source": [
        "b = 2\n",
        "print(b)"
      ],
      "execution_count": 49,
      "outputs": [
        {
          "output_type": "stream",
          "text": [
            "2\n"
          ],
          "name": "stdout"
        }
      ]
    },
    {
      "cell_type": "code",
      "metadata": {
        "colab": {
          "base_uri": "https://localhost:8080/"
        },
        "id": "gyLVZGSJptF_",
        "outputId": "76d241db-4099-4d01-acfa-6e53c913715f"
      },
      "source": [
        "print(a)\n",
        "print(b)"
      ],
      "execution_count": 50,
      "outputs": [
        {
          "output_type": "stream",
          "text": [
            "1\n",
            "2\n"
          ],
          "name": "stdout"
        }
      ]
    },
    {
      "cell_type": "code",
      "metadata": {
        "id": "R4vZvbTEpxWE"
      },
      "source": [
        "x = 'This is a string'"
      ],
      "execution_count": 51,
      "outputs": []
    },
    {
      "cell_type": "code",
      "metadata": {
        "colab": {
          "base_uri": "https://localhost:8080/"
        },
        "id": "rsCXLm0bp24P",
        "outputId": "f9cbb667-f61c-46c7-b96e-8e2cc666dcd7"
      },
      "source": [
        "print(x)"
      ],
      "execution_count": 52,
      "outputs": [
        {
          "output_type": "stream",
          "text": [
            "This is a string\n"
          ],
          "name": "stdout"
        }
      ]
    },
    {
      "cell_type": "code",
      "metadata": {
        "id": "Cp9xGVJ4p3xC"
      },
      "source": [
        "y = 1"
      ],
      "execution_count": 53,
      "outputs": []
    },
    {
      "cell_type": "code",
      "metadata": {
        "colab": {
          "base_uri": "https://localhost:8080/"
        },
        "id": "HJXrzPVUqAmf",
        "outputId": "3e07d1ef-8676-4f42-ef33-a8e70ae4ed14"
      },
      "source": [
        "print(y)\n",
        "print(a)"
      ],
      "execution_count": 54,
      "outputs": [
        {
          "output_type": "stream",
          "text": [
            "1\n",
            "1\n"
          ],
          "name": "stdout"
        }
      ]
    },
    {
      "cell_type": "code",
      "metadata": {
        "colab": {
          "base_uri": "https://localhost:8080/"
        },
        "id": "wCL5YUmzqEng",
        "outputId": "3ba82dab-499a-4701-b122-a55e459fc9a4"
      },
      "source": [
        "y = 10\n",
        "print(y)"
      ],
      "execution_count": 55,
      "outputs": [
        {
          "output_type": "stream",
          "text": [
            "10\n"
          ],
          "name": "stdout"
        }
      ]
    },
    {
      "cell_type": "code",
      "metadata": {
        "colab": {
          "base_uri": "https://localhost:8080/"
        },
        "id": "ac46GAbLqRSt",
        "outputId": "c5bca7ed-c88b-48dd-fcd5-9dfb5baf3797"
      },
      "source": [
        "p = 'hi'\n",
        "print(p)"
      ],
      "execution_count": 58,
      "outputs": [
        {
          "output_type": "stream",
          "text": [
            "hi\n"
          ],
          "name": "stdout"
        }
      ]
    },
    {
      "cell_type": "code",
      "metadata": {
        "colab": {
          "base_uri": "https://localhost:8080/"
        },
        "id": "uKJLJZk4qdK7",
        "outputId": "6eb9acd4-6598-49d6-c0bf-0e07da4d1282"
      },
      "source": [
        "x = \"Coach Basty\"\n",
        "print(\"Hello \" + \"I am \" + x)"
      ],
      "execution_count": 60,
      "outputs": [
        {
          "output_type": "stream",
          "text": [
            "Hello I am Coach Basty\n"
          ],
          "name": "stdout"
        }
      ]
    },
    {
      "cell_type": "code",
      "metadata": {
        "id": "WRQLjFQWrIjJ"
      },
      "source": [
        "#EXERCISE"
      ],
      "execution_count": 61,
      "outputs": []
    },
    {
      "cell_type": "code",
      "metadata": {
        "colab": {
          "base_uri": "https://localhost:8080/"
        },
        "id": "cqbR9MRvrTAU",
        "outputId": "4adb131b-a26a-4df1-8b7d-1dd3d4b6f342"
      },
      "source": [
        "#we want to print out a sentence that tells us the color of an apple, grapes, and a banana\n",
        "\n",
        "apple = \"red\"\n",
        "grapes = \"violet\"\n",
        "banana = 'yellow'\n",
        "\n",
        "\n",
        "print(\"The color of apple is \" + apple)\n",
        "print(\"The color of grapes is \" + grapes)\n",
        "print(\"The color of banana is \" + banana)"
      ],
      "execution_count": 62,
      "outputs": [
        {
          "output_type": "stream",
          "text": [
            "The color of apple is red\n",
            "The color of grapes is violet\n",
            "The color of banana is yellow\n"
          ],
          "name": "stdout"
        }
      ]
    },
    {
      "cell_type": "code",
      "metadata": {
        "id": "lRtnr5o8r8Rg"
      },
      "source": [
        "a = 'Hello there'\n",
        "b = a"
      ],
      "execution_count": 65,
      "outputs": []
    },
    {
      "cell_type": "code",
      "metadata": {
        "colab": {
          "base_uri": "https://localhost:8080/"
        },
        "id": "46fQR11rsSIs",
        "outputId": "88ef315e-c885-41fc-eed0-b7e6461460ec"
      },
      "source": [
        "print(b)"
      ],
      "execution_count": 66,
      "outputs": [
        {
          "output_type": "stream",
          "text": [
            "Hello there\n"
          ],
          "name": "stdout"
        }
      ]
    },
    {
      "cell_type": "code",
      "metadata": {
        "id": "NDhtdwvRsTWr"
      },
      "source": [
        "j = 2\n",
        "k = 'Hello'\n",
        "l = j\n",
        "j = k\n",
        "k = l"
      ],
      "execution_count": 69,
      "outputs": []
    },
    {
      "cell_type": "code",
      "metadata": {
        "colab": {
          "base_uri": "https://localhost:8080/"
        },
        "id": "TdXHulpps-We",
        "outputId": "2838a067-bc81-4ed3-ec61-8d0d1eeedf3c"
      },
      "source": [
        "print(j)\n",
        "print(k)"
      ],
      "execution_count": 70,
      "outputs": [
        {
          "output_type": "stream",
          "text": [
            "Hello\n",
            "2\n"
          ],
          "name": "stdout"
        }
      ]
    },
    {
      "cell_type": "code",
      "metadata": {
        "colab": {
          "base_uri": "https://localhost:8080/"
        },
        "id": "WnLND91Sv1yG",
        "outputId": "9a57674b-7aab-4c78-94af-ea0336a8f7f9"
      },
      "source": [
        "j, k = ['Hello', 2]\n",
        "print(j)\n",
        "print(k)"
      ],
      "execution_count": 71,
      "outputs": [
        {
          "output_type": "stream",
          "text": [
            "Hello\n",
            "2\n"
          ],
          "name": "stdout"
        }
      ]
    },
    {
      "cell_type": "code",
      "metadata": {
        "id": "92F4eNpuwwDo"
      },
      "source": [
        ""
      ],
      "execution_count": null,
      "outputs": []
    }
  ]
}