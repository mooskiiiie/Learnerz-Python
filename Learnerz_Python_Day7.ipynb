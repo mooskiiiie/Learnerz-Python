{
  "nbformat": 4,
  "nbformat_minor": 0,
  "metadata": {
    "colab": {
      "name": "Learnerz_Python_Day7.ipynb",
      "provenance": [],
      "authorship_tag": "ABX9TyPFJ1Re4m9UI3edwGhgyvw9",
      "include_colab_link": true
    },
    "kernelspec": {
      "name": "python3",
      "display_name": "Python 3"
    },
    "language_info": {
      "name": "python"
    }
  },
  "cells": [
    {
      "cell_type": "markdown",
      "metadata": {
        "id": "view-in-github",
        "colab_type": "text"
      },
      "source": [
        "<a href=\"https://colab.research.google.com/github/mooskiiiie/Learnerz-Python/blob/main/Learnerz_Python_Day7.ipynb\" target=\"_parent\"><img src=\"https://colab.research.google.com/assets/colab-badge.svg\" alt=\"Open In Colab\"/></a>"
      ]
    },
    {
      "cell_type": "code",
      "metadata": {
        "id": "c57fKesHnKvM"
      },
      "source": [
        "# WHILE LOOPS"
      ],
      "execution_count": 4,
      "outputs": []
    },
    {
      "cell_type": "code",
      "metadata": {
        "colab": {
          "base_uri": "https://localhost:8080/"
        },
        "id": "UAOq3uA3oIDR",
        "outputId": "fd553ef0-d382-45b5-e5b4-c6f61c58cd1e"
      },
      "source": [
        "counter = 1\n",
        "\n",
        "while counter < 5:\n",
        "  print(counter)\n",
        "  counter += 1"
      ],
      "execution_count": 6,
      "outputs": [
        {
          "output_type": "stream",
          "text": [
            "1\n",
            "2\n",
            "3\n",
            "4\n"
          ],
          "name": "stdout"
        }
      ]
    },
    {
      "cell_type": "code",
      "metadata": {
        "colab": {
          "base_uri": "https://localhost:8080/"
        },
        "id": "GUEwZay9qe_X",
        "outputId": "883a1290-0028-480d-960f-7a13e18d8544"
      },
      "source": [
        "i = 1\n",
        "\n",
        "while i < 5:\n",
        "  if i == 1:\n",
        "    print(\"first loop\")\n",
        "    i += 1\n",
        "  elif i == 2:\n",
        "    print(\"second loop\")\n",
        "    i += 1\n",
        "  elif i == 3:\n",
        "    print(\"third loop\")\n",
        "    i += 1\n",
        "  elif i == 4:\n",
        "    print(\"fourth loop\")\n",
        "    i += 1\n",
        "  elif i == 5:\n",
        "    break"
      ],
      "execution_count": 7,
      "outputs": [
        {
          "output_type": "stream",
          "text": [
            "first loop\n",
            "second loop\n",
            "third loop\n",
            "fourth loop\n"
          ],
          "name": "stdout"
        }
      ]
    },
    {
      "cell_type": "code",
      "metadata": {
        "colab": {
          "base_uri": "https://localhost:8080/"
        },
        "id": "-X-h6CL3r3db",
        "outputId": "909dc491-22ba-4ded-e138-ecae7c4e9ec8"
      },
      "source": [
        "while True:\n",
        "  print(\"Yes\")\n",
        "  j = int(input())\n",
        "  \n",
        "  if j == 5:\n",
        "    print(\"J is 5\")\n",
        "    break \n",
        "  elif j != 5:\n",
        "    print(\"J is not equal to 5\")"
      ],
      "execution_count": 8,
      "outputs": [
        {
          "output_type": "stream",
          "text": [
            "Yes\n",
            "3\n",
            "J is not equal to 5\n",
            "Yes\n",
            "4\n",
            "J is not equal to 5\n",
            "Yes\n",
            "5\n",
            "J is 5\n"
          ],
          "name": "stdout"
        }
      ]
    },
    {
      "cell_type": "code",
      "metadata": {
        "colab": {
          "base_uri": "https://localhost:8080/"
        },
        "id": "LjHJJUaLtgQL",
        "outputId": "5655a44a-dd35-48c0-80c0-87adeadc67f5"
      },
      "source": [
        "# statistics problem\n",
        "\n",
        "x = 0 #counter variable\n",
        "num_of_entries = int(input())\n",
        "maximum = 0\n",
        "minimum = 0\n",
        "initial = 0\n",
        "\n",
        "while x < num_of_entries:\n",
        "  entry = int(input())\n",
        "  \n",
        "  if entry > maximum:\n",
        "    maximum = entry\n",
        "  \n",
        "  if entry > initial:\n",
        "    minimum = initial\n",
        "  \n",
        "  if entry <\n",
        "  \n",
        "  initial = entry\n",
        "  x += 1\n",
        "\n",
        "print(\"Maximum: \", maximum)\n",
        "print(\"Minimum: \", minimum)\n",
        "print(\"Range: \", maximum - minimum)\n",
        "#SEMANTIC ERROR"
      ],
      "execution_count": 31,
      "outputs": [
        {
          "output_type": "stream",
          "text": [
            "5\n",
            "10\n",
            "20\n",
            "30\n",
            "40\n",
            "50\n",
            "Maximum:  50\n",
            "Minimum:  40\n",
            "Range:  10\n"
          ],
          "name": "stdout"
        }
      ]
    },
    {
      "cell_type": "code",
      "metadata": {
        "colab": {
          "base_uri": "https://localhost:8080/"
        },
        "id": "o-BPB_RTwEWX",
        "outputId": "fd19d518-9bdf-49ad-88bb-1452627c6d9e"
      },
      "source": [
        "5# FUNCTIONS\n",
        "\n",
        "def addition():\n",
        "  x = int(input())\n",
        "  y = int(input())\n",
        "\n",
        "  return x + y\n",
        "\n"
      ],
      "execution_count": 16,
      "outputs": [
        {
          "output_type": "stream",
          "text": [
            "10\n",
            "20\n"
          ],
          "name": "stdout"
        },
        {
          "output_type": "execute_result",
          "data": {
            "text/plain": [
              "30"
            ]
          },
          "metadata": {},
          "execution_count": 16
        }
      ]
    },
    {
      "cell_type": "code",
      "metadata": {
        "colab": {
          "base_uri": "https://localhost:8080/"
        },
        "id": "XbJniNSF1ssc",
        "outputId": "5cb91bc5-73b8-4b46-cc5c-c2bcbc482f0f"
      },
      "source": [
        "total = 0\n",
        "maximum = None\n",
        "minimum = None\n",
        "\n",
        "number = int(input())\n",
        "while total < number:\n",
        "    new_num = int(input())\n",
        "    if maximum is None or maximum < new_num:\n",
        "        maximum = new_num\n",
        "    if minimum is None or minimum > new_num:\n",
        "        minimum = new_num\n",
        "    total += 1\n",
        "\n",
        "diff = maximum - minimum\n",
        "\n",
        "print(\"Maximum =\", maximum)\n",
        "print(\"Minimum =\", minimum)\n",
        "print(\"Range =\", str(diff))"
      ],
      "execution_count": 35,
      "outputs": [
        {
          "output_type": "stream",
          "text": [
            "4\n",
            "2\n",
            "1\n",
            "15\n",
            "222\n",
            "Maximum = 222\n",
            "Minimum = 1\n",
            "Range = 221\n"
          ],
          "name": "stdout"
        }
      ]
    },
    {
      "cell_type": "code",
      "metadata": {
        "id": "W31lYaKB9U-D"
      },
      "source": [
        ""
      ],
      "execution_count": null,
      "outputs": []
    }
  ]
}